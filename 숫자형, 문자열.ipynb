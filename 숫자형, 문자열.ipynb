{
 "cells": [
  {
   "cell_type": "markdown",
   "id": "57289d0f",
   "metadata": {},
   "source": [
    "# 숫자형\n",
    "\n",
    "type() : 자료형을 알아낼 때 사용\n",
    "\n",
    "-int:숫자형(integer)\n",
    "\n",
    "-float:실수형(floating point)"
   ]
  },
  {
   "cell_type": "code",
   "execution_count": 1,
   "id": "347a1400",
   "metadata": {},
   "outputs": [
    {
     "name": "stdout",
     "output_type": "stream",
     "text": [
      "<class 'int'>\n"
     ]
    }
   ],
   "source": [
    "a = 1\n",
    "\n",
    "print(type(a))"
   ]
  },
  {
   "cell_type": "code",
   "execution_count": 1,
   "id": "9994d05d",
   "metadata": {},
   "outputs": [
    {
     "name": "stdout",
     "output_type": "stream",
     "text": [
      "<class 'float'>\n"
     ]
    }
   ],
   "source": [
    "a = 1.23\n",
    "\n",
    "print(type(a))"
   ]
  },
  {
   "cell_type": "code",
   "execution_count": 3,
   "id": "8d8dce6e",
   "metadata": {},
   "outputs": [
    {
     "name": "stdout",
     "output_type": "stream",
     "text": [
      "<class 'float'>\n",
      "42400000000.0\n"
     ]
    }
   ],
   "source": [
    "a = 4.24e10\n",
    "\n",
    "print(type(a))\n",
    "print(a)"
   ]
  },
  {
   "cell_type": "markdown",
   "id": "df7040e8",
   "metadata": {},
   "source": [
    "## 숫자형 연산\n",
    "\n",
    "+: 덧셈\n",
    "\n",
    "*: 곱셈\n",
    "\n",
    "** : 제곱\n",
    "\n",
    "/ : 나누기\n",
    "\n",
    "// : 몫\n",
    "\n",
    "% : 나머지"
   ]
  },
  {
   "cell_type": "code",
   "execution_count": 4,
   "id": "64b46567",
   "metadata": {},
   "outputs": [
    {
     "name": "stdout",
     "output_type": "stream",
     "text": [
      "7\n"
     ]
    }
   ],
   "source": [
    "a = 3\n",
    "b = 4\n",
    "\n",
    "print(a+b)"
   ]
  },
  {
   "cell_type": "code",
   "execution_count": 5,
   "id": "4a3c36da",
   "metadata": {},
   "outputs": [
    {
     "name": "stdout",
     "output_type": "stream",
     "text": [
      "12\n"
     ]
    }
   ],
   "source": [
    "a = 3\n",
    "b = 4\n",
    "\n",
    "print(a*b)"
   ]
  },
  {
   "cell_type": "code",
   "execution_count": 6,
   "id": "8fef804e",
   "metadata": {},
   "outputs": [
    {
     "name": "stdout",
     "output_type": "stream",
     "text": [
      "0.75\n"
     ]
    }
   ],
   "source": [
    "a = 3\n",
    "b = 4\n",
    "\n",
    "print(a/b)"
   ]
  },
  {
   "cell_type": "code",
   "execution_count": 7,
   "id": "fe4b11f4",
   "metadata": {},
   "outputs": [
    {
     "name": "stdout",
     "output_type": "stream",
     "text": [
      "0\n"
     ]
    }
   ],
   "source": [
    "a = 3\n",
    "b = 4\n",
    "\n",
    "print(a//b)"
   ]
  },
  {
   "cell_type": "code",
   "execution_count": 8,
   "id": "8e5cae56",
   "metadata": {},
   "outputs": [
    {
     "name": "stdout",
     "output_type": "stream",
     "text": [
      "3\n"
     ]
    }
   ],
   "source": [
    "a = 3\n",
    "b = 4\n",
    "\n",
    "print(a%b)"
   ]
  },
  {
   "cell_type": "code",
   "execution_count": 9,
   "id": "ab2f65f7",
   "metadata": {},
   "outputs": [
    {
     "name": "stdout",
     "output_type": "stream",
     "text": [
      "81\n"
     ]
    }
   ],
   "source": [
    "a = 3\n",
    "b = 4\n",
    "\n",
    "print(a**b)"
   ]
  },
  {
   "cell_type": "markdown",
   "id": "dc11c694",
   "metadata": {},
   "source": [
    "# 문자열\n",
    "\n",
    "- class : str (string)\n",
    "\n",
    "\"Hello world\"\n",
    "\n",
    "'Python is fun'\n",
    "\n",
    "\"\"\"Life is too short, You need python\"\"\"\n",
    "\n",
    "'''Life is too short, You need python'''"
   ]
  },
  {
   "cell_type": "code",
   "execution_count": 11,
   "id": "10e4d079",
   "metadata": {},
   "outputs": [
    {
     "name": "stdout",
     "output_type": "stream",
     "text": [
      "Hello world\n",
      "<class 'str'>\n"
     ]
    }
   ],
   "source": [
    "a = \"Hello world\"\n",
    "\n",
    "print(a)\n",
    "print(type(a))"
   ]
  },
  {
   "cell_type": "code",
   "execution_count": 12,
   "id": "c7779d08",
   "metadata": {},
   "outputs": [
    {
     "ename": "SyntaxError",
     "evalue": "invalid syntax (2047725025.py, line 1)",
     "output_type": "error",
     "traceback": [
      "\u001b[1;36m  Input \u001b[1;32mIn [12]\u001b[1;36m\u001b[0m\n\u001b[1;33m    a = 'Python's favorite food is perl'\u001b[0m\n\u001b[1;37m                ^\u001b[0m\n\u001b[1;31mSyntaxError\u001b[0m\u001b[1;31m:\u001b[0m invalid syntax\n"
     ]
    }
   ],
   "source": [
    "# 따옴표가 겹쳐 오류\n",
    "\n",
    "a = 'Python's favorite food is perl'\n",
    "\n",
    "print(type(a))"
   ]
  },
  {
   "cell_type": "code",
   "execution_count": 14,
   "id": "a88af284",
   "metadata": {},
   "outputs": [
    {
     "name": "stdout",
     "output_type": "stream",
     "text": [
      "Python's favorite food is perl\n"
     ]
    }
   ],
   "source": [
    "a = \"Python's favorite food is perl\"\n",
    "\n",
    "print(a)"
   ]
  },
  {
   "cell_type": "code",
   "execution_count": 15,
   "id": "93ea3d75",
   "metadata": {},
   "outputs": [
    {
     "name": "stdout",
     "output_type": "stream",
     "text": [
      "Python's favorite food is perl\n"
     ]
    }
   ],
   "source": [
    "# \\(백슬래쉬)를 이용하여 출력시킬 수 있음\n",
    "\n",
    "a ='Python\\'s favorite food is perl'\n",
    "\n",
    "print(a)"
   ]
  },
  {
   "cell_type": "code",
   "execution_count": 16,
   "id": "86fdfbb9",
   "metadata": {},
   "outputs": [
    {
     "name": "stdout",
     "output_type": "stream",
     "text": [
      "Life is too short\n",
      "You need python\n"
     ]
    }
   ],
   "source": [
    "# \\n 을 이용하여 줄바꿈\n",
    "\n",
    "a = 'Life is too short\\nYou need python'\n",
    "\n",
    "print(a)"
   ]
  },
  {
   "cell_type": "code",
   "execution_count": 18,
   "id": "e8e7a8f8",
   "metadata": {},
   "outputs": [
    {
     "name": "stdout",
     "output_type": "stream",
     "text": [
      "Life is too short\n",
      "You need python\n",
      "\n",
      "kkk\n",
      "k k k\n",
      "          hhaha\n",
      "\n"
     ]
    }
   ],
   "source": [
    "# \"\"\"(''') 의 장점은 이스케이프 문자를 쓰지 않아도 줄바꿈과 띄어쓰기를 모두 인식한다.\n",
    "\n",
    "a = \"\"\"Life is too short\n",
    "You need python\n",
    "\n",
    "kkk\n",
    "k k k\n",
    "          hhaha\n",
    "\"\"\"\n",
    "\n",
    "print(a)"
   ]
  },
  {
   "cell_type": "code",
   "execution_count": 19,
   "id": "e17d2e25",
   "metadata": {},
   "outputs": [
    {
     "name": "stdout",
     "output_type": "stream",
     "text": [
      "Life is too short\n",
      "You need python\n",
      "\n",
      "kkk\n",
      "k k k\n",
      "          hhaha\n",
      "\n"
     ]
    }
   ],
   "source": [
    "a = '''Life is too short\n",
    "You need python\n",
    "\n",
    "kkk\n",
    "k k k\n",
    "          hhaha\n",
    "'''\n",
    "\n",
    "print(a)"
   ]
  },
  {
   "cell_type": "markdown",
   "id": "9b2b97a3",
   "metadata": {},
   "source": [
    "## 문자열 연산\n",
    "\n",
    "+: 문자열 붙여서 출력, **only문자열X문자열**\n",
    "\n",
    "*: 해당 문자열 곱한만큼 출력   \\\\문자열X숫자형 가능\\\\"
   ]
  },
  {
   "cell_type": "code",
   "execution_count": 20,
   "id": "deac977d",
   "metadata": {},
   "outputs": [
    {
     "name": "stdout",
     "output_type": "stream",
     "text": [
      "Python is fun!\n"
     ]
    }
   ],
   "source": [
    "a = \"Python\"\n",
    "b = \" is fun!\"\n",
    "\n",
    "print(a+b)"
   ]
  },
  {
   "cell_type": "code",
   "execution_count": 21,
   "id": "dd7e62d1",
   "metadata": {},
   "outputs": [
    {
     "name": "stdout",
     "output_type": "stream",
     "text": [
      "PythonPythonPythonPythonPythonPythonPythonPythonPythonPythonPythonPythonPythonPythonPythonPythonPythonPythonPythonPythonPythonPythonPythonPythonPythonPythonPythonPythonPythonPythonPythonPythonPythonPythonPythonPythonPythonPythonPythonPythonPythonPythonPythonPythonPythonPythonPythonPythonPythonPythonPythonPythonPythonPythonPythonPythonPythonPythonPythonPythonPythonPythonPythonPythonPythonPythonPythonPythonPythonPythonPythonPythonPythonPythonPythonPythonPythonPythonPythonPythonPythonPythonPythonPythonPythonPythonPythonPythonPythonPythonPythonPythonPythonPythonPythonPythonPythonPythonPythonPython\n"
     ]
    }
   ],
   "source": [
    "a = \"Python\"\n",
    "b = \" is fun!\"\n",
    "\n",
    "print(a*100)"
   ]
  },
  {
   "cell_type": "code",
   "execution_count": 25,
   "id": "ae3db0c2",
   "metadata": {},
   "outputs": [
    {
     "name": "stdout",
     "output_type": "stream",
     "text": [
      "PythonPythonPython\n"
     ]
    },
    {
     "ename": "TypeError",
     "evalue": "can only concatenate str (not \"int\") to str",
     "output_type": "error",
     "traceback": [
      "\u001b[1;31m---------------------------------------------------------------------------\u001b[0m",
      "\u001b[1;31mTypeError\u001b[0m                                 Traceback (most recent call last)",
      "Input \u001b[1;32mIn [25]\u001b[0m, in \u001b[0;36m<cell line: 7>\u001b[1;34m()\u001b[0m\n\u001b[0;32m      5\u001b[0m \u001b[38;5;28mprint\u001b[39m(a\u001b[38;5;241m*\u001b[39mc)\n\u001b[0;32m      6\u001b[0m \u001b[38;5;66;03m# ---\u001b[39;00m\n\u001b[1;32m----> 7\u001b[0m \u001b[38;5;28mprint\u001b[39m(\u001b[43ma\u001b[49m\u001b[38;5;241;43m+\u001b[39;49m\u001b[43mc\u001b[49m)\n",
      "\u001b[1;31mTypeError\u001b[0m: can only concatenate str (not \"int\") to str"
     ]
    }
   ],
   "source": [
    "a = \"Python\"\n",
    "b = \" is fun!\"\n",
    "c = 3\n",
    "\n",
    "print(a*c)\n",
    "# ---\n",
    "print(a+c)"
   ]
  },
  {
   "cell_type": "markdown",
   "id": "d9054ffd",
   "metadata": {},
   "source": [
    "## 인덱싱(Indexing)\n",
    "\n",
    "앞에서부터 : 0, 1, 2, 3 ---\n",
    "\n",
    "뒤에서부터 : -1, -2, -3, ---"
   ]
  },
  {
   "cell_type": "code",
   "execution_count": 28,
   "id": "5f109477",
   "metadata": {},
   "outputs": [
    {
     "name": "stdout",
     "output_type": "stream",
     "text": [
      "L\n",
      "i\n",
      "h\n"
     ]
    }
   ],
   "source": [
    "# a[n] : n번째에 해당하는 문자 출력\n",
    "\n",
    "a = \"Life is too short, You need python\"\n",
    "\n",
    "print(a[0])\n",
    "print(a[1])\n",
    "print(a[-3])"
   ]
  },
  {
   "cell_type": "markdown",
   "id": "5e95e2da",
   "metadata": {},
   "source": [
    "## 슬라이싱(Slicing)\n",
    "\n",
    "[ 이상 : 미만 : 간격 ] 값을 출력"
   ]
  },
  {
   "cell_type": "code",
   "execution_count": 30,
   "id": "9edcd5f9",
   "metadata": {},
   "outputs": [
    {
     "name": "stdout",
     "output_type": "stream",
     "text": [
      "Life\n"
     ]
    }
   ],
   "source": [
    "a = \"Life is too short, You need python\"\n",
    "\n",
    "print(a[0:4])"
   ]
  },
  {
   "cell_type": "code",
   "execution_count": 32,
   "id": "4141003b",
   "metadata": {},
   "outputs": [
    {
     "name": "stdout",
     "output_type": "stream",
     "text": [
      "20010331\n",
      "Rainy\n"
     ]
    }
   ],
   "source": [
    "# 이상/미만 값만 표현할 수 있음\n",
    "\n",
    "a = \"20010331Rainy\"\n",
    "\n",
    "print(a[:8])\n",
    "print(a[8:])"
   ]
  },
  {
   "cell_type": "code",
   "execution_count": 33,
   "id": "bb061dc4",
   "metadata": {},
   "outputs": [
    {
     "name": "stdout",
     "output_type": "stream",
     "text": [
      "1357\n"
     ]
    }
   ],
   "source": [
    "a = \"12345678\"\n",
    "\n",
    "print(a[::2])"
   ]
  },
  {
   "cell_type": "code",
   "execution_count": 39,
   "id": "b1c615fa",
   "metadata": {},
   "outputs": [
    {
     "name": "stdout",
     "output_type": "stream",
     "text": [
      "Lf\n",
      "L tstoepo\n",
      "nhy enuY,rh o iei\n",
      "nohtyp deen uoY ,trohs oot si efiL\n"
     ]
    }
   ],
   "source": [
    "a = \"Life is too short, You need python\"\n",
    "\n",
    "print(a[:4:2])\n",
    "print(a[::4])\n",
    "print(a[::-2])\n",
    "print(a[::-1])"
   ]
  },
  {
   "cell_type": "markdown",
   "id": "c6229fe4",
   "metadata": {},
   "source": [
    "## 포매팅\n",
    "\n",
    "%s : 문자열 (+숫자형, 실수형에도 사용가능)\n",
    "\n",
    "%d : 숫자형\n",
    "\n",
    "%f : 실수형"
   ]
  },
  {
   "cell_type": "code",
   "execution_count": 1,
   "id": "b7a5bb0b",
   "metadata": {},
   "outputs": [
    {
     "name": "stdout",
     "output_type": "stream",
     "text": [
      "I eat 3 apples.\n",
      "I eat 3 apples\n"
     ]
    }
   ],
   "source": [
    "a = \"I eat %d apples.\" %3\n",
    "b = \"I eat \" + str(3) + \" apples\"\n",
    "\n",
    "print(a)\n",
    "print(b)"
   ]
  },
  {
   "cell_type": "code",
   "execution_count": 3,
   "id": "f54db5cd",
   "metadata": {},
   "outputs": [
    {
     "name": "stdout",
     "output_type": "stream",
     "text": [
      "I ate 10 apples. so I was sick for three days.\n"
     ]
    }
   ],
   "source": [
    "number = 10\n",
    "day = \"three\"\n",
    "a = \"I ate %d apples. so I was sick for %s days.\" %(number, day)\n",
    "\n",
    "print(a)"
   ]
  },
  {
   "cell_type": "code",
   "execution_count": 4,
   "id": "32ccd26f",
   "metadata": {},
   "outputs": [
    {
     "name": "stdout",
     "output_type": "stream",
     "text": [
      "I ate 1.2 apples. so I was sick for three days.\n"
     ]
    }
   ],
   "source": [
    "# %s 에는 문자열뿐만 아니라 다 들어감\n",
    "\n",
    "number = 10\n",
    "day = \"three\"\n",
    "a = \"I ate %s apples. so I was sick for %s days.\" %(1.2, day)\n",
    "\n",
    "print(a)"
   ]
  },
  {
   "cell_type": "code",
   "execution_count": 6,
   "id": "0df9235a",
   "metadata": {},
   "outputs": [
    {
     "name": "stdout",
     "output_type": "stream",
     "text": [
      "ㅋㅋ나도 파크 갈래\n"
     ]
    }
   ],
   "source": [
    "a = \"ㅋㅋ나도 {} 갈래\" .format(\"파크\")\n",
    "\n",
    "print(a)"
   ]
  },
  {
   "cell_type": "code",
   "execution_count": 10,
   "id": "7d874ace",
   "metadata": {},
   "outputs": [
    {
     "name": "stdout",
     "output_type": "stream",
     "text": [
      "ㅋㅋ나도 2파크2갈래\n"
     ]
    }
   ],
   "source": [
    "a = \"ㅋㅋ나도 {number}{place}{number}갈래\" .format(place=\"파크\",number=2)\n",
    "\n",
    "print(a)"
   ]
  },
  {
   "cell_type": "code",
   "execution_count": 12,
   "id": "aab33573",
   "metadata": {},
   "outputs": [
    {
     "name": "stdout",
     "output_type": "stream",
     "text": [
      "나의 이름은 int입니다\n"
     ]
    }
   ],
   "source": [
    "name = \"int\"\n",
    "a = f\"나의 이름은 {name}입니다\"\n",
    "\n",
    "print(a)"
   ]
  },
  {
   "cell_type": "code",
   "execution_count": 14,
   "id": "e0a03c5e",
   "metadata": {},
   "outputs": [
    {
     "name": "stdout",
     "output_type": "stream",
     "text": [
      "나의 이름은 int입니다\n"
     ]
    }
   ],
   "source": [
    "name = \"int\"\n",
    "a = \"나의 이름은 {}입니다\" .format(name)\n",
    "\n",
    "print(a)"
   ]
  },
  {
   "cell_type": "markdown",
   "id": "6e4272c9",
   "metadata": {},
   "source": [
    "## 정렬과 공백"
   ]
  },
  {
   "cell_type": "code",
   "execution_count": 15,
   "id": "527aa1f1",
   "metadata": {},
   "outputs": [
    {
     "name": "stdout",
     "output_type": "stream",
     "text": [
      "        hi\n"
     ]
    }
   ],
   "source": [
    "a = \"%10s\" %\"hi\"\n",
    "\n",
    "print(a)"
   ]
  },
  {
   "cell_type": "code",
   "execution_count": 16,
   "id": "7c8e95ad",
   "metadata": {},
   "outputs": [
    {
     "name": "stdout",
     "output_type": "stream",
     "text": [
      "hi        jane.\n"
     ]
    }
   ],
   "source": [
    "a = \"%-10sjane.\" %'hi'\n",
    "\n",
    "print(a)"
   ]
  },
  {
   "cell_type": "markdown",
   "id": "e27ed80a",
   "metadata": {},
   "source": [
    "## 소수점 표현"
   ]
  },
  {
   "cell_type": "code",
   "execution_count": 18,
   "id": "c9bef7f3",
   "metadata": {},
   "outputs": [
    {
     "name": "stdout",
     "output_type": "stream",
     "text": [
      "3.4213\n"
     ]
    }
   ],
   "source": [
    "a = \"%0.4f\" %3.42134234\n",
    "\n",
    "print(a)"
   ]
  },
  {
   "cell_type": "markdown",
   "id": "36567547",
   "metadata": {},
   "source": [
    "## 문자열 개수 세기"
   ]
  },
  {
   "cell_type": "code",
   "execution_count": 20,
   "id": "a4bbebb5",
   "metadata": {},
   "outputs": [
    {
     "name": "stdout",
     "output_type": "stream",
     "text": [
      "2\n"
     ]
    }
   ],
   "source": [
    "a = \"hobby\"\n",
    "\n",
    "print(a.count('b'))"
   ]
  },
  {
   "cell_type": "markdown",
   "id": "665ac3f9",
   "metadata": {},
   "source": [
    "## 위치 알려주기"
   ]
  },
  {
   "cell_type": "code",
   "execution_count": 22,
   "id": "f77d8475",
   "metadata": {},
   "outputs": [
    {
     "name": "stdout",
     "output_type": "stream",
     "text": [
      "2\n",
      "-1\n"
     ]
    }
   ],
   "source": [
    "# 제일 먼저 찾은 문자의 인덱스를 알려줌\n",
    "a = \"hobby\"\n",
    "\n",
    "print(a.find('b'))\n",
    "print(a.find('x')) # 없으면 -1이라고 나옴"
   ]
  },
  {
   "cell_type": "markdown",
   "id": "7c9d6f03",
   "metadata": {},
   "source": [
    "## 문자열 삽입"
   ]
  },
  {
   "cell_type": "code",
   "execution_count": 24,
   "id": "cbaf939b",
   "metadata": {},
   "outputs": [
    {
     "name": "stdout",
     "output_type": "stream",
     "text": [
      "a,b,c,d\n",
      "a,b,c,d\n"
     ]
    }
   ],
   "source": [
    "a = \",\"\n",
    "\n",
    "print(a.join('abcd'))\n",
    "\n",
    "b = \",\" .join(\"abcd\")\n",
    "\n",
    "print(b)"
   ]
  },
  {
   "cell_type": "markdown",
   "id": "76b33a0b",
   "metadata": {},
   "source": [
    "## 소문자를 대문자로, 대문자를 소문자로 / 공백지우기"
   ]
  },
  {
   "cell_type": "code",
   "execution_count": 28,
   "id": "b3b7cfad",
   "metadata": {},
   "outputs": [
    {
     "name": "stdout",
     "output_type": "stream",
     "text": [
      "HI\n",
      "hi\n"
     ]
    }
   ],
   "source": [
    "a = \"hi\"\n",
    "print(a.upper())\n",
    "\n",
    "b = \"HI\"\n",
    "print(b.lower())"
   ]
  },
  {
   "cell_type": "code",
   "execution_count": 29,
   "id": "98e2b350",
   "metadata": {},
   "outputs": [
    {
     "name": "stdout",
     "output_type": "stream",
     "text": [
      "hi\n"
     ]
    }
   ],
   "source": [
    "a = \" hi \"\n",
    "print(a.strip())"
   ]
  },
  {
   "cell_type": "markdown",
   "id": "7f6634e2",
   "metadata": {},
   "source": [
    "## 문자열 바꾸기"
   ]
  },
  {
   "cell_type": "code",
   "execution_count": 30,
   "id": "15fc44d3",
   "metadata": {},
   "outputs": [
    {
     "name": "stdout",
     "output_type": "stream",
     "text": [
      "Your leg is too short\n"
     ]
    }
   ],
   "source": [
    "a = \"Life is too short\"\n",
    "\n",
    "print(a.replace(\"Life\", \"Your leg\"))"
   ]
  },
  {
   "cell_type": "markdown",
   "id": "514699f9",
   "metadata": {},
   "source": [
    "## 문자열 나누기"
   ]
  },
  {
   "cell_type": "code",
   "execution_count": 31,
   "id": "c357537d",
   "metadata": {},
   "outputs": [
    {
     "name": "stdout",
     "output_type": "stream",
     "text": [
      "['Life', 'is', 'too', 'short']\n"
     ]
    }
   ],
   "source": [
    "# 띄어쓰기 기준으로 자름\n",
    "a = \"Life is too short\"\n",
    "\n",
    "print(a.split())"
   ]
  },
  {
   "cell_type": "code",
   "execution_count": 33,
   "id": "11f686bd",
   "metadata": {},
   "outputs": [
    {
     "name": "stdout",
     "output_type": "stream",
     "text": [
      "['Life', 'is', 'too', 'short']\n"
     ]
    }
   ],
   "source": [
    "# : 기준으로 자름\n",
    "a = \"Life:is:too:short\"\n",
    "\n",
    "print(a.split(\":\"))"
   ]
  }
 ],
 "metadata": {
  "kernelspec": {
   "display_name": "Python 3 (ipykernel)",
   "language": "python",
   "name": "python3"
  },
  "language_info": {
   "codemirror_mode": {
    "name": "ipython",
    "version": 3
   },
   "file_extension": ".py",
   "mimetype": "text/x-python",
   "name": "python",
   "nbconvert_exporter": "python",
   "pygments_lexer": "ipython3",
   "version": "3.9.12"
  }
 },
 "nbformat": 4,
 "nbformat_minor": 5
}
